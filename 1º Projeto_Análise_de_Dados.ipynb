{
  "nbformat": 4,
  "nbformat_minor": 0,
  "metadata": {
    "kernelspec": {
      "display_name": "Python 3",
      "language": "python",
      "name": "python3"
    },
    "language_info": {
      "codemirror_mode": {
        "name": "ipython",
        "version": 3
      },
      "file_extension": ".py",
      "mimetype": "text/x-python",
      "name": "python",
      "nbconvert_exporter": "python",
      "pygments_lexer": "ipython3",
      "version": "3.8.3"
    },
    "colab": {
      "name": "Projeto Análise de Dados 1.0",
      "provenance": [],
      "collapsed_sections": [],
      "include_colab_link": true
    }
  },
  "cells": [
    {
      "cell_type": "markdown",
      "metadata": {
        "id": "view-in-github",
        "colab_type": "text"
      },
      "source": [
        "<a href=\"https://colab.research.google.com/github/GuilhermeFMedici/Data_Analysis_Mini_Project/blob/main/Projeto_An%C3%A1lise_de_Dados_1_0.ipynb\" target=\"_parent\"><img src=\"https://colab.research.google.com/assets/colab-badge.svg\" alt=\"Open In Colab\"/></a>"
      ]
    },
    {
      "cell_type": "markdown",
      "metadata": {
        "id": "6uvL8BaZ8LpI"
      },
      "source": [
        "##Mini Projeto de Análise de Dados\n",
        "\n",
        "### O que temos?\n",
        "\n",
        "Temos os dados de 2019 de uma empresa de prestação de serviços. \n",
        "\n",
        "- CadastroFuncionarios\n",
        "- CadastroClientes\n",
        "- BaseServiçosPrestados\n",
        "\n",
        "Obs1: Para ler arquivos csv, temos o read_csv<br>\n",
        "Obs2: Para ler arquivos xlsx (arquivos em excel normais, que não são padrão csv), temos o read_excel\n",
        "\n",
        "### O que queremos saber/fazer?\n",
        "\n",
        "1. Valor Total da Folha Salarial -> Qual foi o gasto total com salários de funcionários pela empresa? <br>\n",
        "    Sugestão: calcule o salário total de cada funcionário, salário + benefícios + impostos, depois some todos os salários\n",
        "    \n",
        "    \n",
        "2. Qual foi o faturamento da empresa?<br>\n",
        "    Sugestão: calcule o faturamento total de cada serviço e depois some o faturamento de todos\n",
        "    \n",
        "    \n",
        "3. Qual o % de funcionários que já fechou algum contrato?<br>\n",
        "    Sugestão: na base de serviços temos o funcionário que fechou cada serviço. Mas nem todos os funcionários que a empresa tem já fecharam algum serviço.<br>\n",
        "    . Na base de funcionários temos uma lista com todos os funcionários<br>\n",
        "    . Queremos calcular Qtde_Funcionarios_Fecharam_Serviço / Qtde_Funcionários_Totais<br>\n",
        "    . Para calcular a qtde de funcionários que fecharam algum serviço, use a base de serviços e conte quantos funcionários tem ali. Mas lembre-se, cada funcionário só pode ser contado uma única vez.<br><br>\n",
        "    Dica: se você aplicar o método .unique() em uma variável que é apenas 1 coluna de um dataframe, ele vai excluir todos os valores duplicados daquela coluna.<br>\n",
        "    Ex: unicos_colunaA = dataframe['colunaA'].unique() te dá como resposta uma lista com todos os itens da colunaA aparecendo uma única vez. Todos os valores repetidos da colunaA são excluidos da variável unicos_colunaA \n",
        "    \n",
        "    \n",
        "4. Calcule o total de contratos que cada área da empresa já fechou\n",
        "\n",
        "\n",
        "5. Calcule o total de funcionários por área\n",
        "\n",
        "\n",
        "6. Qual o ticket médio mensal (faturamento médio mensal) dos contratos?<br>\n",
        "    Dica: .mean() calcula a média -> exemplo: media_colunaA = dataframe['colunaA'].mean()\n",
        "\n",
        "Obs: Lembrando as opções mais usuais de encoding:<br>\n",
        "encoding='latin1', encoding='ISO-8859-1', encoding='utf-8' ou então encoding='cp1252'\n",
        "\n",
        "Observação Importante: Se o seu código der um erro na hora de importar os arquivos:<br>\n",
        "- CadastroClientes.csv\n",
        "- CadastroFuncionarios.csv\n",
        "\n",
        "Use separador \";\" (ponto e vírgula) para resolver"
      ]
    },
    {
      "cell_type": "code",
      "metadata": {
        "id": "iP4B9Ju-8LqS",
        "colab": {
          "base_uri": "https://localhost:8080/"
        },
        "outputId": "499a70e2-b69b-44ba-9444-09bfc7e6fd53"
      },
      "source": [
        "from google.colab import drive\n",
        "drive.mount('/content/drive')\n"
      ],
      "execution_count": 2,
      "outputs": [
        {
          "output_type": "stream",
          "name": "stdout",
          "text": [
            "Mounted at /content/drive\n"
          ]
        }
      ]
    },
    {
      "cell_type": "markdown",
      "metadata": {
        "id": "y-75ReNkIqh0"
      },
      "source": [
        "### Importando os Arquivos"
      ]
    },
    {
      "cell_type": "code",
      "metadata": {
        "colab": {
          "base_uri": "https://localhost:8080/",
          "height": 1000
        },
        "id": "oz5-AwVy_tfW",
        "outputId": "2d456357-0625-4d0c-8ba6-0bce2d9b84e1"
      },
      "source": [
        "import pandas as pd\n",
        "\n",
        "clientes_df =  pd.read_csv(r'/content/drive/ My Drive/Analise de dados/CadastroClientes.csv', sep=';', decimal = ',')\n",
        "funcionarios_df = pd.read_csv(r'/content/drive/ My Drive/Analise de dados/CadastroFuncionarios.csv', sep=';', decimal = ',')\n",
        "serviços_df = pd.read_excel(r'/content/drive/ My Drive/Analise de dados/BaseServiçosPrestados.xlsx')\n",
        "\n",
        "#retirar colunas Estado Civil e Cargo da tabela de funcionarios\n",
        "funcionarios_df = funcionarios_df.drop(['Estado Civil', 'Cargo'], axis=1)\n",
        "\n",
        "display(clientes_df)\n",
        "display(funcionarios_df)\n",
        "display(serviços_df)\n",
        "funcionarios_df.info()"
      ],
      "execution_count": 3,
      "outputs": [
        {
          "output_type": "display_data",
          "data": {
            "text/html": [
              "<div>\n",
              "<style scoped>\n",
              "    .dataframe tbody tr th:only-of-type {\n",
              "        vertical-align: middle;\n",
              "    }\n",
              "\n",
              "    .dataframe tbody tr th {\n",
              "        vertical-align: top;\n",
              "    }\n",
              "\n",
              "    .dataframe thead th {\n",
              "        text-align: right;\n",
              "    }\n",
              "</style>\n",
              "<table border=\"1\" class=\"dataframe\">\n",
              "  <thead>\n",
              "    <tr style=\"text-align: right;\">\n",
              "      <th></th>\n",
              "      <th>ID Cliente</th>\n",
              "      <th>Cliente</th>\n",
              "      <th>Valor Contrato Mensal</th>\n",
              "    </tr>\n",
              "  </thead>\n",
              "  <tbody>\n",
              "    <tr>\n",
              "      <th>0</th>\n",
              "      <td>1</td>\n",
              "      <td>Teixeira Gonçalves</td>\n",
              "      <td>540</td>\n",
              "    </tr>\n",
              "    <tr>\n",
              "      <th>1</th>\n",
              "      <td>2</td>\n",
              "      <td>Souza Santos</td>\n",
              "      <td>1260</td>\n",
              "    </tr>\n",
              "    <tr>\n",
              "      <th>2</th>\n",
              "      <td>3</td>\n",
              "      <td>Emídio Alves</td>\n",
              "      <td>3195</td>\n",
              "    </tr>\n",
              "    <tr>\n",
              "      <th>3</th>\n",
              "      <td>4</td>\n",
              "      <td>Santos Costa</td>\n",
              "      <td>2520</td>\n",
              "    </tr>\n",
              "    <tr>\n",
              "      <th>4</th>\n",
              "      <td>5</td>\n",
              "      <td>Do Monteiro</td>\n",
              "      <td>3510</td>\n",
              "    </tr>\n",
              "    <tr>\n",
              "      <th>...</th>\n",
              "      <td>...</td>\n",
              "      <td>...</td>\n",
              "      <td>...</td>\n",
              "    </tr>\n",
              "    <tr>\n",
              "      <th>315</th>\n",
              "      <td>316</td>\n",
              "      <td>Manoel Costa</td>\n",
              "      <td>3690</td>\n",
              "    </tr>\n",
              "    <tr>\n",
              "      <th>316</th>\n",
              "      <td>317</td>\n",
              "      <td>Gomes Machado</td>\n",
              "      <td>2385</td>\n",
              "    </tr>\n",
              "    <tr>\n",
              "      <th>317</th>\n",
              "      <td>318</td>\n",
              "      <td>Alkindar Cardozo</td>\n",
              "      <td>3510</td>\n",
              "    </tr>\n",
              "    <tr>\n",
              "      <th>318</th>\n",
              "      <td>319</td>\n",
              "      <td>Pereira Fazenda</td>\n",
              "      <td>4185</td>\n",
              "    </tr>\n",
              "    <tr>\n",
              "      <th>319</th>\n",
              "      <td>320</td>\n",
              "      <td>Americo Damasceno</td>\n",
              "      <td>2430</td>\n",
              "    </tr>\n",
              "  </tbody>\n",
              "</table>\n",
              "<p>320 rows × 3 columns</p>\n",
              "</div>"
            ],
            "text/plain": [
              "     ID Cliente             Cliente  Valor Contrato Mensal\n",
              "0             1  Teixeira Gonçalves                    540\n",
              "1             2        Souza Santos                   1260\n",
              "2             3        Emídio Alves                   3195\n",
              "3             4        Santos Costa                   2520\n",
              "4             5         Do Monteiro                   3510\n",
              "..          ...                 ...                    ...\n",
              "315         316        Manoel Costa                   3690\n",
              "316         317       Gomes Machado                   2385\n",
              "317         318    Alkindar Cardozo                   3510\n",
              "318         319     Pereira Fazenda                   4185\n",
              "319         320   Americo Damasceno                   2430\n",
              "\n",
              "[320 rows x 3 columns]"
            ]
          },
          "metadata": {}
        },
        {
          "output_type": "display_data",
          "data": {
            "text/html": [
              "<div>\n",
              "<style scoped>\n",
              "    .dataframe tbody tr th:only-of-type {\n",
              "        vertical-align: middle;\n",
              "    }\n",
              "\n",
              "    .dataframe tbody tr th {\n",
              "        vertical-align: top;\n",
              "    }\n",
              "\n",
              "    .dataframe thead th {\n",
              "        text-align: right;\n",
              "    }\n",
              "</style>\n",
              "<table border=\"1\" class=\"dataframe\">\n",
              "  <thead>\n",
              "    <tr style=\"text-align: right;\">\n",
              "      <th></th>\n",
              "      <th>ID Funcionário</th>\n",
              "      <th>Nome Completo</th>\n",
              "      <th>Salario Base</th>\n",
              "      <th>Impostos</th>\n",
              "      <th>Beneficios</th>\n",
              "      <th>VT</th>\n",
              "      <th>VR</th>\n",
              "      <th>Area</th>\n",
              "    </tr>\n",
              "  </thead>\n",
              "  <tbody>\n",
              "    <tr>\n",
              "      <th>0</th>\n",
              "      <td>1</td>\n",
              "      <td>Gabriel Mesquita</td>\n",
              "      <td>21910</td>\n",
              "      <td>10955.0</td>\n",
              "      <td>4382.0</td>\n",
              "      <td>242</td>\n",
              "      <td>719.04</td>\n",
              "      <td>Operações</td>\n",
              "    </tr>\n",
              "    <tr>\n",
              "      <th>1</th>\n",
              "      <td>2</td>\n",
              "      <td>João Haddad</td>\n",
              "      <td>5404</td>\n",
              "      <td>2702.0</td>\n",
              "      <td>1080.8</td>\n",
              "      <td>154</td>\n",
              "      <td>574.56</td>\n",
              "      <td>Logística</td>\n",
              "    </tr>\n",
              "    <tr>\n",
              "      <th>2</th>\n",
              "      <td>3</td>\n",
              "      <td>Amanda Marques Ribeiro</td>\n",
              "      <td>16066</td>\n",
              "      <td>8033.0</td>\n",
              "      <td>3213.2</td>\n",
              "      <td>154</td>\n",
              "      <td>729.12</td>\n",
              "      <td>Administrativo</td>\n",
              "    </tr>\n",
              "    <tr>\n",
              "      <th>3</th>\n",
              "      <td>4</td>\n",
              "      <td>Guilherme Nunez</td>\n",
              "      <td>21305</td>\n",
              "      <td>10652.5</td>\n",
              "      <td>4261.0</td>\n",
              "      <td>220</td>\n",
              "      <td>524.16</td>\n",
              "      <td>Administrativo</td>\n",
              "    </tr>\n",
              "    <tr>\n",
              "      <th>4</th>\n",
              "      <td>5</td>\n",
              "      <td>Adelino Gomes</td>\n",
              "      <td>5098</td>\n",
              "      <td>2549.0</td>\n",
              "      <td>1019.6</td>\n",
              "      <td>176</td>\n",
              "      <td>725.76</td>\n",
              "      <td>Administrativo</td>\n",
              "    </tr>\n",
              "    <tr>\n",
              "      <th>...</th>\n",
              "      <td>...</td>\n",
              "      <td>...</td>\n",
              "      <td>...</td>\n",
              "      <td>...</td>\n",
              "      <td>...</td>\n",
              "      <td>...</td>\n",
              "      <td>...</td>\n",
              "      <td>...</td>\n",
              "    </tr>\n",
              "    <tr>\n",
              "      <th>109</th>\n",
              "      <td>143</td>\n",
              "      <td>Renan Scharnhorst Ott</td>\n",
              "      <td>10793</td>\n",
              "      <td>5396.5</td>\n",
              "      <td>2158.6</td>\n",
              "      <td>242</td>\n",
              "      <td>514.08</td>\n",
              "      <td>Logística</td>\n",
              "    </tr>\n",
              "    <tr>\n",
              "      <th>110</th>\n",
              "      <td>144</td>\n",
              "      <td>Lucas Brum Pereira</td>\n",
              "      <td>4048</td>\n",
              "      <td>2024.0</td>\n",
              "      <td>809.6</td>\n",
              "      <td>198</td>\n",
              "      <td>796.32</td>\n",
              "      <td>Comercial</td>\n",
              "    </tr>\n",
              "    <tr>\n",
              "      <th>111</th>\n",
              "      <td>148</td>\n",
              "      <td>Caio Stellet</td>\n",
              "      <td>24596</td>\n",
              "      <td>12298.0</td>\n",
              "      <td>4919.2</td>\n",
              "      <td>242</td>\n",
              "      <td>561.12</td>\n",
              "      <td>Administrativo</td>\n",
              "    </tr>\n",
              "    <tr>\n",
              "      <th>112</th>\n",
              "      <td>149</td>\n",
              "      <td>Fernanda Rocha</td>\n",
              "      <td>5078</td>\n",
              "      <td>2539.0</td>\n",
              "      <td>1015.6</td>\n",
              "      <td>308</td>\n",
              "      <td>665.28</td>\n",
              "      <td>Comercial</td>\n",
              "    </tr>\n",
              "    <tr>\n",
              "      <th>113</th>\n",
              "      <td>150</td>\n",
              "      <td>Eduardo Brum</td>\n",
              "      <td>15939</td>\n",
              "      <td>7969.5</td>\n",
              "      <td>3187.8</td>\n",
              "      <td>220</td>\n",
              "      <td>769.44</td>\n",
              "      <td>Comercial</td>\n",
              "    </tr>\n",
              "  </tbody>\n",
              "</table>\n",
              "<p>114 rows × 8 columns</p>\n",
              "</div>"
            ],
            "text/plain": [
              "     ID Funcionário           Nome Completo  ...      VR            Area\n",
              "0                 1        Gabriel Mesquita  ...  719.04       Operações\n",
              "1                 2             João Haddad  ...  574.56       Logística\n",
              "2                 3  Amanda Marques Ribeiro  ...  729.12  Administrativo\n",
              "3                 4         Guilherme Nunez  ...  524.16  Administrativo\n",
              "4                 5           Adelino Gomes  ...  725.76  Administrativo\n",
              "..              ...                     ...  ...     ...             ...\n",
              "109             143   Renan Scharnhorst Ott  ...  514.08       Logística\n",
              "110             144      Lucas Brum Pereira  ...  796.32       Comercial\n",
              "111             148            Caio Stellet  ...  561.12  Administrativo\n",
              "112             149          Fernanda Rocha  ...  665.28       Comercial\n",
              "113             150            Eduardo Brum  ...  769.44       Comercial\n",
              "\n",
              "[114 rows x 8 columns]"
            ]
          },
          "metadata": {}
        },
        {
          "output_type": "display_data",
          "data": {
            "text/html": [
              "<div>\n",
              "<style scoped>\n",
              "    .dataframe tbody tr th:only-of-type {\n",
              "        vertical-align: middle;\n",
              "    }\n",
              "\n",
              "    .dataframe tbody tr th {\n",
              "        vertical-align: top;\n",
              "    }\n",
              "\n",
              "    .dataframe thead th {\n",
              "        text-align: right;\n",
              "    }\n",
              "</style>\n",
              "<table border=\"1\" class=\"dataframe\">\n",
              "  <thead>\n",
              "    <tr style=\"text-align: right;\">\n",
              "      <th></th>\n",
              "      <th>Codigo do Servico</th>\n",
              "      <th>ID Funcionário</th>\n",
              "      <th>ID Cliente</th>\n",
              "      <th>Tempo Total de Contrato (Meses)</th>\n",
              "    </tr>\n",
              "  </thead>\n",
              "  <tbody>\n",
              "    <tr>\n",
              "      <th>0</th>\n",
              "      <td>OS0001</td>\n",
              "      <td>67</td>\n",
              "      <td>1</td>\n",
              "      <td>14</td>\n",
              "    </tr>\n",
              "    <tr>\n",
              "      <th>1</th>\n",
              "      <td>OS0002</td>\n",
              "      <td>17</td>\n",
              "      <td>2</td>\n",
              "      <td>12</td>\n",
              "    </tr>\n",
              "    <tr>\n",
              "      <th>2</th>\n",
              "      <td>OS0003</td>\n",
              "      <td>116</td>\n",
              "      <td>4</td>\n",
              "      <td>14</td>\n",
              "    </tr>\n",
              "    <tr>\n",
              "      <th>3</th>\n",
              "      <td>OS0004</td>\n",
              "      <td>37</td>\n",
              "      <td>5</td>\n",
              "      <td>8</td>\n",
              "    </tr>\n",
              "    <tr>\n",
              "      <th>4</th>\n",
              "      <td>OS0005</td>\n",
              "      <td>130</td>\n",
              "      <td>6</td>\n",
              "      <td>8</td>\n",
              "    </tr>\n",
              "    <tr>\n",
              "      <th>...</th>\n",
              "      <td>...</td>\n",
              "      <td>...</td>\n",
              "      <td>...</td>\n",
              "      <td>...</td>\n",
              "    </tr>\n",
              "    <tr>\n",
              "      <th>232</th>\n",
              "      <td>OS0233</td>\n",
              "      <td>111</td>\n",
              "      <td>315</td>\n",
              "      <td>4</td>\n",
              "    </tr>\n",
              "    <tr>\n",
              "      <th>233</th>\n",
              "      <td>OS0234</td>\n",
              "      <td>124</td>\n",
              "      <td>316</td>\n",
              "      <td>8</td>\n",
              "    </tr>\n",
              "    <tr>\n",
              "      <th>234</th>\n",
              "      <td>OS0235</td>\n",
              "      <td>72</td>\n",
              "      <td>317</td>\n",
              "      <td>6</td>\n",
              "    </tr>\n",
              "    <tr>\n",
              "      <th>235</th>\n",
              "      <td>OS0236</td>\n",
              "      <td>90</td>\n",
              "      <td>319</td>\n",
              "      <td>14</td>\n",
              "    </tr>\n",
              "    <tr>\n",
              "      <th>236</th>\n",
              "      <td>OS0237</td>\n",
              "      <td>22</td>\n",
              "      <td>320</td>\n",
              "      <td>12</td>\n",
              "    </tr>\n",
              "  </tbody>\n",
              "</table>\n",
              "<p>237 rows × 4 columns</p>\n",
              "</div>"
            ],
            "text/plain": [
              "    Codigo do Servico  ...  Tempo Total de Contrato (Meses)\n",
              "0              OS0001  ...                               14\n",
              "1              OS0002  ...                               12\n",
              "2              OS0003  ...                               14\n",
              "3              OS0004  ...                                8\n",
              "4              OS0005  ...                                8\n",
              "..                ...  ...                              ...\n",
              "232            OS0233  ...                                4\n",
              "233            OS0234  ...                                8\n",
              "234            OS0235  ...                                6\n",
              "235            OS0236  ...                               14\n",
              "236            OS0237  ...                               12\n",
              "\n",
              "[237 rows x 4 columns]"
            ]
          },
          "metadata": {}
        },
        {
          "output_type": "stream",
          "name": "stdout",
          "text": [
            "<class 'pandas.core.frame.DataFrame'>\n",
            "RangeIndex: 114 entries, 0 to 113\n",
            "Data columns (total 8 columns):\n",
            " #   Column          Non-Null Count  Dtype  \n",
            "---  ------          --------------  -----  \n",
            " 0   ID Funcionário  114 non-null    int64  \n",
            " 1   Nome Completo   114 non-null    object \n",
            " 2   Salario Base    114 non-null    int64  \n",
            " 3   Impostos        114 non-null    float64\n",
            " 4   Beneficios      114 non-null    float64\n",
            " 5   VT              114 non-null    int64  \n",
            " 6   VR              114 non-null    float64\n",
            " 7   Area            114 non-null    object \n",
            "dtypes: float64(3), int64(3), object(2)\n",
            "memory usage: 7.2+ KB\n"
          ]
        }
      ]
    },
    {
      "cell_type": "markdown",
      "metadata": {
        "id": "A7a9u51QI27Q"
      },
      "source": [
        "### 1 - Folha Salarial"
      ]
    },
    {
      "cell_type": "code",
      "metadata": {
        "colab": {
          "base_uri": "https://localhost:8080/"
        },
        "id": "3vwSK_f2I6XA",
        "outputId": "896692fd-587e-42e5-d934-b8b1edd8bcb4"
      },
      "source": [
        "#funcionarios_df['Impostos'] = pd.to_numeric(funcionarios_df['Impostos'])\n",
        "#funcionarios_df['Beneficios'] = funcionarios_df['Beneficios'].astype(float)\n",
        "#funcionarios_df['VR'] = funcionarios_df['VR'].astype(float)\n",
        "#funcionarios_df.info()\n",
        "\n",
        "funcionarios_df['Salario Total'] = funcionarios_df['Salario Base'] +\tfuncionarios_df['Impostos'] +\tfuncionarios_df['Beneficios'] +\tfuncionarios_df['VT'] +\tfuncionarios_df['VR']\n",
        "print(sum(funcionarios_df['Salario Total']))"
      ],
      "execution_count": 4,
      "outputs": [
        {
          "output_type": "stream",
          "name": "stdout",
          "text": [
            "2717493.22\n"
          ]
        }
      ]
    },
    {
      "cell_type": "markdown",
      "metadata": {
        "id": "ZkfA23wZNNLF"
      },
      "source": [
        "###2 - Faturamento da Empresa"
      ]
    },
    {
      "cell_type": "code",
      "metadata": {
        "id": "EN-2Y_ZPNSIm",
        "colab": {
          "base_uri": "https://localhost:8080/"
        },
        "outputId": "9e15fa33-7f67-4637-c180-bb28b63219f9"
      },
      "source": [
        "faturamento_df = serviços_df[['ID Cliente', 'Tempo Total de Contrato (Meses)']].merge(clientes_df[['ID Cliente', 'Valor Contrato Mensal']], on= 'ID Cliente' )\n",
        "faturamento_df['Faturamento Total'] = faturamento_df['Tempo Total de Contrato (Meses)'] * faturamento_df['Valor Contrato Mensal']\n",
        "print(sum(faturamento_df['Faturamento Total']))"
      ],
      "execution_count": 5,
      "outputs": [
        {
          "output_type": "stream",
          "name": "stdout",
          "text": [
            "5519160\n"
          ]
        }
      ]
    },
    {
      "cell_type": "markdown",
      "metadata": {
        "id": "xuCqEx-_bsMo"
      },
      "source": [
        "### 3 - % Funcionários Fecharam Contrato"
      ]
    },
    {
      "cell_type": "code",
      "metadata": {
        "colab": {
          "base_uri": "https://localhost:8080/"
        },
        "id": "yaV7N5CZb9F3",
        "outputId": "a8433d20-3b0e-475d-eccd-e420b9dea8aa"
      },
      "source": [
        "qtde_funcionario_fecharam_contrato = len(serviços_df['ID Funcionário'].unique())\n",
        "qtde_funcionario_total = len(funcionarios_df['ID Funcionário'])\n",
        "print('Percentual de funcionários que fecharam contrato: {:.2%}'. format(qtde_funcionario_fecharam_contrato / qtde_funcionario_total))"
      ],
      "execution_count": null,
      "outputs": [
        {
          "output_type": "stream",
          "name": "stdout",
          "text": [
            "Percentual de funcionários que fecharam contrato: 86.84%\n"
          ]
        }
      ]
    },
    {
      "cell_type": "markdown",
      "metadata": {
        "id": "7keWkJ0Ob-AN"
      },
      "source": [
        "### 4 - Qtde Contratos por Área"
      ]
    },
    {
      "cell_type": "code",
      "metadata": {
        "colab": {
          "base_uri": "https://localhost:8080/",
          "height": 452
        },
        "id": "MCjxeKPscGEB",
        "outputId": "bd54908d-6206-4931-9497-d92fea2af76b"
      },
      "source": [
        "contrato_area_df = serviços_df[['ID Funcionário']].merge(funcionarios_df[['ID Funcionário', 'Area']], on='ID Funcionário')\n",
        "contrato_area_qtde = contrato_area_df['Area'].value_counts()\n",
        "print(contrato_area_qtde)\n",
        "contrato_area_qtde.plot(kind='bar')"
      ],
      "execution_count": null,
      "outputs": [
        {
          "output_type": "stream",
          "name": "stdout",
          "text": [
            "Administrativo    63\n",
            "Operações         48\n",
            "Comercial         44\n",
            "Financeiro        42\n",
            "Logística         40\n",
            "Name: Area, dtype: int64\n"
          ]
        },
        {
          "output_type": "execute_result",
          "data": {
            "text/plain": [
              "<matplotlib.axes._subplots.AxesSubplot at 0x7fbdc7622850>"
            ]
          },
          "metadata": {},
          "execution_count": 20
        },
        {
          "output_type": "display_data",
          "data": {
            "image/png": "[encoded data removed]",
            "text/plain": [
              "<Figure size 432x288 with 1 Axes>"
            ]
          },
          "metadata": {
            "needs_background": "light"
          }
        }
      ]
    },
    {
      "cell_type": "markdown",
      "metadata": {
        "id": "DrOKQFJLcHbj"
      },
      "source": [
        "### 5 - Funicionários por Área"
      ]
    },
    {
      "cell_type": "code",
      "metadata": {
        "colab": {
          "base_uri": "https://localhost:8080/",
          "height": 452
        },
        "id": "IZeRcPzGcM-x",
        "outputId": "2207a6f2-a9a1-48a6-b1f5-3202d2197322"
      },
      "source": [
        "funcionarios_area = funcionarios_df['Area'].value_counts()\n",
        "print(funcionarios_area)\n",
        "funcionarios_area.plot(kind='bar')"
      ],
      "execution_count": null,
      "outputs": [
        {
          "output_type": "stream",
          "name": "stdout",
          "text": [
            "Comercial         26\n",
            "Administrativo    26\n",
            "Operações         23\n",
            "Logística         21\n",
            "Financeiro        18\n",
            "Name: Area, dtype: int64\n"
          ]
        },
        {
          "output_type": "execute_result",
          "data": {
            "text/plain": [
              "<matplotlib.axes._subplots.AxesSubplot at 0x7fbdc76b1dd0>"
            ]
          },
          "metadata": {},
          "execution_count": 19
        },
        {
          "output_type": "display_data",
          "data": {
            "image/png": "[encoded data removed]",
            "text/plain": [
              "<Figure size 432x288 with 1 Axes>"
            ]
          },
          "metadata": {
            "needs_background": "light"
          }
        }
      ]
    },
    {
      "cell_type": "markdown",
      "metadata": {
        "id": "jn5FVAVAeBIS"
      },
      "source": [
        "### 6 - Ticket Médio Mensal"
      ]
    },
    {
      "cell_type": "code",
      "metadata": {
        "colab": {
          "base_uri": "https://localhost:8080/"
        },
        "id": "WI2_xk47eExg",
        "outputId": "b56dc06f-840b-465a-8b45-4f69dc2911c1"
      },
      "source": [
        "ticket_medio = clientes_df['Valor Contrato Mensal'].mean()\n",
        "print('Ticket Médio Mensal: R${:,.2f}'.format(ticket_medio))"
      ],
      "execution_count": 6,
      "outputs": [
        {
          "output_type": "stream",
          "name": "stdout",
          "text": [
            "Ticket Médio Mensal: R$2,502.56\n"
          ]
        }
      ]
    }
  ]
}
